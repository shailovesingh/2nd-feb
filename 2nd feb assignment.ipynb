{
 "cells": [
  {
   "cell_type": "code",
   "execution_count": 1,
   "id": "f169893d-0005-4016-a770-99602356860b",
   "metadata": {},
   "outputs": [
    {
     "ename": "IndentationError",
     "evalue": "unexpected indent (4251233653.py, line 6)",
     "output_type": "error",
     "traceback": [
      "\u001b[0;36m  Cell \u001b[0;32mIn[1], line 6\u001b[0;36m\u001b[0m\n\u001b[0;31m    for x in range(1,5):\u001b[0m\n\u001b[0m    ^\u001b[0m\n\u001b[0;31mIndentationError\u001b[0m\u001b[0;31m:\u001b[0m unexpected indent\n"
     ]
    }
   ],
   "source": [
    "'''Q1. For Loop:-\n",
    "    For loop is used when the number of iterations is already known.'''\n",
    "    \n",
    "    #EX:-\n",
    "    \n",
    "        for x in range(1,5):\n",
    "            print(x)\n",
    "        \n",
    "            \n",
    "'''while loop:-\n",
    "    While loop is used when the number of iterations is already Unknown.'''\n",
    "    \n",
    "    #EX:-\n",
    "    \n",
    "        i = 1\n",
    "        n = 5\n",
    "        while i <= n:\n",
    "            print(i)\n",
    "            i = i + 1"
   ]
  },
  {
   "cell_type": "code",
   "execution_count": 9,
   "id": "9a73b729-8878-4524-8d68-bff5324d78c5",
   "metadata": {},
   "outputs": [
    {
     "name": "stdout",
     "output_type": "stream",
     "text": [
      "55\n",
      "3628800\n"
     ]
    }
   ],
   "source": [
    "#Q2. # FOR LOOP FOR THE SUM AND PRODUCT OF 10 NATURAL NO.\n",
    "\n",
    "sum = 0\n",
    "for i in range(1,11):\n",
    "    sum = sum + i\n",
    "print(sum)\n",
    "########################################\n",
    "sum = 1\n",
    "for i in range(1,11):\n",
    "    sum = sum * i\n",
    "print(sum)"
   ]
  },
  {
   "cell_type": "code",
   "execution_count": null,
   "id": "f4953248-6bad-4dd2-9687-f411581fd9fa",
   "metadata": {},
   "outputs": [],
   "source": [
    "#Q2. # WHILE LOOP FOR THE SUM AND PRODUCT OF 10 NATURAL NO.\n",
    " \n",
    "n = int(input(\"enter a number: \"))\n",
    "i = 1\n",
    "sum = 0\n",
    "while (i <= n):\n",
    "    sum = sum + i\n",
    "    i = i + 1\n",
    "print(\"The sum is: \", sum)\n",
    "###################################################\n",
    "n = int(input(\"enter a number: \"))\n",
    "i = 1\n",
    "sum = 1\n",
    "while (i <= n):\n",
    "    sum = sum * i\n",
    "    i = i + 1\n",
    "print(\"The product is: \", sum)"
   ]
  },
  {
   "cell_type": "code",
   "execution_count": 2,
   "id": "285cd436-ccfc-4b9a-be95-b43e4cc0142c",
   "metadata": {},
   "outputs": [
    {
     "name": "stdin",
     "output_type": "stream",
     "text": [
      "Enter the units 200\n"
     ]
    },
    {
     "name": "stdout",
     "output_type": "stream",
     "text": [
      "Your household bill is 1200\n"
     ]
    }
   ],
   "source": [
    "# Q3.\n",
    "\n",
    "units = int(input(\"Enter the units\"))\n",
    "\n",
    "if units <=100:\n",
    "    print(\"Your household bill is\",units*4.5)\n",
    "elif units >= 101 and units <= 200:\n",
    "    print(\"Your household bill is\",units*6)\n",
    "elif units >= 201 and units <= 300:\n",
    "    print(\"Your household bill is\",units*10)\n",
    "else:\n",
    "    print(\"Your household bill is\",units*20)"
   ]
  },
  {
   "cell_type": "code",
   "execution_count": 3,
   "id": "f571bf6b-ab56-405e-96e6-eabf963a050f",
   "metadata": {},
   "outputs": [],
   "source": [
    "#Q4.\n",
    "\n",
    "l = range(1,101)\n",
    "l1 = []\n",
    "for i in l:\n",
    "    cube = i**3\n",
    "    if cube%4 == 0 or cube%5 == 0:\n",
    "        l1.append(i)"
   ]
  },
  {
   "cell_type": "code",
   "execution_count": 4,
   "id": "c7438975-caf4-447c-a90e-c28eaca66807",
   "metadata": {},
   "outputs": [
    {
     "name": "stdout",
     "output_type": "stream",
     "text": [
      "[2, 4, 5, 6, 8, 10, 12, 14, 15, 16, 18, 20, 22, 24, 25, 26, 28, 30, 32, 34, 35, 36, 38, 40, 42, 44, 45, 46, 48, 50, 52, 54, 55, 56, 58, 60, 62, 64, 65, 66, 68, 70, 72, 74, 75, 76, 78, 80, 82, 84, 85, 86, 88, 90, 92, 94, 95, 96, 98, 100] "
     ]
    }
   ],
   "source": [
    "print(l1,end=' ')"
   ]
  },
  {
   "cell_type": "code",
   "execution_count": 6,
   "id": "3001e4a1-d4c6-4240-898a-9fe807cf4d1b",
   "metadata": {},
   "outputs": [
    {
     "name": "stdout",
     "output_type": "stream",
     "text": [
      "No. of vowels in string are 11\n"
     ]
    }
   ],
   "source": [
    "string = \" I want to become a data scientist\"\n",
    "vowels = 0\n",
    "for i in string:\n",
    "    if (i== 'a' or i== 'e' or i=='i' or i== 'o' or i=='u'):\n",
    "        vowels += 1\n",
    "print(\"No. of vowels in string are\",vowels)"
   ]
  },
  {
   "cell_type": "code",
   "execution_count": null,
   "id": "5d4921a6-7f46-4547-be50-3f79340149b5",
   "metadata": {},
   "outputs": [],
   "source": []
  }
 ],
 "metadata": {
  "kernelspec": {
   "display_name": "Python 3 (ipykernel)",
   "language": "python",
   "name": "python3"
  },
  "language_info": {
   "codemirror_mode": {
    "name": "ipython",
    "version": 3
   },
   "file_extension": ".py",
   "mimetype": "text/x-python",
   "name": "python",
   "nbconvert_exporter": "python",
   "pygments_lexer": "ipython3",
   "version": "3.10.8"
  }
 },
 "nbformat": 4,
 "nbformat_minor": 5
}
